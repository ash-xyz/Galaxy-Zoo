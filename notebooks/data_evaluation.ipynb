{
 "cells": [
  {
   "cell_type": "code",
   "execution_count": 1,
   "metadata": {},
   "outputs": [],
   "source": [
    "import numpy as np\n",
    "import pandas as pd\n",
    "import matplotlib.pyplot as plt \n",
    "import tensorflow as tf\n",
    "from PIL import Image"
   ]
  },
  {
   "cell_type": "code",
   "execution_count": 2,
   "metadata": {},
   "outputs": [
    {
     "output_type": "execute_result",
     "data": {
      "text/plain": "   GalaxyID  Class1.1  Class1.2  Class1.3  Class2.1  Class2.2  Class3.1  \\\n0    100008  0.383147  0.616853  0.000000  0.000000  0.616853  0.038452   \n1    100023  0.327001  0.663777  0.009222  0.031178  0.632599  0.467370   \n2    100053  0.765717  0.177352  0.056931  0.000000  0.177352  0.000000   \n3    100078  0.693377  0.238564  0.068059  0.000000  0.238564  0.109493   \n4    100090  0.933839  0.000000  0.066161  0.000000  0.000000  0.000000   \n\n   Class3.2  Class4.1  Class4.2  ...  Class9.3  Class10.1  Class10.2  \\\n0  0.578401  0.418398  0.198455  ...  0.000000   0.279952   0.138445   \n1  0.165229  0.591328  0.041271  ...  0.018764   0.000000   0.131378   \n2  0.177352  0.000000  0.177352  ...  0.000000   0.000000   0.000000   \n3  0.129071  0.189098  0.049466  ...  0.000000   0.094549   0.000000   \n4  0.000000  0.000000  0.000000  ...  0.000000   0.000000   0.000000   \n\n   Class10.3  Class11.1  Class11.2  Class11.3  Class11.4  Class11.5  Class11.6  \n0   0.000000   0.000000   0.092886        0.0        0.0        0.0   0.325512  \n1   0.459950   0.000000   0.591328        0.0        0.0        0.0   0.000000  \n2   0.000000   0.000000   0.000000        0.0        0.0        0.0   0.000000  \n3   0.094549   0.189098   0.000000        0.0        0.0        0.0   0.000000  \n4   0.000000   0.000000   0.000000        0.0        0.0        0.0   0.000000  \n\n[5 rows x 38 columns]",
      "text/html": "<div>\n<style scoped>\n    .dataframe tbody tr th:only-of-type {\n        vertical-align: middle;\n    }\n\n    .dataframe tbody tr th {\n        vertical-align: top;\n    }\n\n    .dataframe thead th {\n        text-align: right;\n    }\n</style>\n<table border=\"1\" class=\"dataframe\">\n  <thead>\n    <tr style=\"text-align: right;\">\n      <th></th>\n      <th>GalaxyID</th>\n      <th>Class1.1</th>\n      <th>Class1.2</th>\n      <th>Class1.3</th>\n      <th>Class2.1</th>\n      <th>Class2.2</th>\n      <th>Class3.1</th>\n      <th>Class3.2</th>\n      <th>Class4.1</th>\n      <th>Class4.2</th>\n      <th>...</th>\n      <th>Class9.3</th>\n      <th>Class10.1</th>\n      <th>Class10.2</th>\n      <th>Class10.3</th>\n      <th>Class11.1</th>\n      <th>Class11.2</th>\n      <th>Class11.3</th>\n      <th>Class11.4</th>\n      <th>Class11.5</th>\n      <th>Class11.6</th>\n    </tr>\n  </thead>\n  <tbody>\n    <tr>\n      <th>0</th>\n      <td>100008</td>\n      <td>0.383147</td>\n      <td>0.616853</td>\n      <td>0.000000</td>\n      <td>0.000000</td>\n      <td>0.616853</td>\n      <td>0.038452</td>\n      <td>0.578401</td>\n      <td>0.418398</td>\n      <td>0.198455</td>\n      <td>...</td>\n      <td>0.000000</td>\n      <td>0.279952</td>\n      <td>0.138445</td>\n      <td>0.000000</td>\n      <td>0.000000</td>\n      <td>0.092886</td>\n      <td>0.0</td>\n      <td>0.0</td>\n      <td>0.0</td>\n      <td>0.325512</td>\n    </tr>\n    <tr>\n      <th>1</th>\n      <td>100023</td>\n      <td>0.327001</td>\n      <td>0.663777</td>\n      <td>0.009222</td>\n      <td>0.031178</td>\n      <td>0.632599</td>\n      <td>0.467370</td>\n      <td>0.165229</td>\n      <td>0.591328</td>\n      <td>0.041271</td>\n      <td>...</td>\n      <td>0.018764</td>\n      <td>0.000000</td>\n      <td>0.131378</td>\n      <td>0.459950</td>\n      <td>0.000000</td>\n      <td>0.591328</td>\n      <td>0.0</td>\n      <td>0.0</td>\n      <td>0.0</td>\n      <td>0.000000</td>\n    </tr>\n    <tr>\n      <th>2</th>\n      <td>100053</td>\n      <td>0.765717</td>\n      <td>0.177352</td>\n      <td>0.056931</td>\n      <td>0.000000</td>\n      <td>0.177352</td>\n      <td>0.000000</td>\n      <td>0.177352</td>\n      <td>0.000000</td>\n      <td>0.177352</td>\n      <td>...</td>\n      <td>0.000000</td>\n      <td>0.000000</td>\n      <td>0.000000</td>\n      <td>0.000000</td>\n      <td>0.000000</td>\n      <td>0.000000</td>\n      <td>0.0</td>\n      <td>0.0</td>\n      <td>0.0</td>\n      <td>0.000000</td>\n    </tr>\n    <tr>\n      <th>3</th>\n      <td>100078</td>\n      <td>0.693377</td>\n      <td>0.238564</td>\n      <td>0.068059</td>\n      <td>0.000000</td>\n      <td>0.238564</td>\n      <td>0.109493</td>\n      <td>0.129071</td>\n      <td>0.189098</td>\n      <td>0.049466</td>\n      <td>...</td>\n      <td>0.000000</td>\n      <td>0.094549</td>\n      <td>0.000000</td>\n      <td>0.094549</td>\n      <td>0.189098</td>\n      <td>0.000000</td>\n      <td>0.0</td>\n      <td>0.0</td>\n      <td>0.0</td>\n      <td>0.000000</td>\n    </tr>\n    <tr>\n      <th>4</th>\n      <td>100090</td>\n      <td>0.933839</td>\n      <td>0.000000</td>\n      <td>0.066161</td>\n      <td>0.000000</td>\n      <td>0.000000</td>\n      <td>0.000000</td>\n      <td>0.000000</td>\n      <td>0.000000</td>\n      <td>0.000000</td>\n      <td>...</td>\n      <td>0.000000</td>\n      <td>0.000000</td>\n      <td>0.000000</td>\n      <td>0.000000</td>\n      <td>0.000000</td>\n      <td>0.000000</td>\n      <td>0.0</td>\n      <td>0.0</td>\n      <td>0.0</td>\n      <td>0.000000</td>\n    </tr>\n  </tbody>\n</table>\n<p>5 rows × 38 columns</p>\n</div>"
     },
     "metadata": {},
     "execution_count": 2
    }
   ],
   "source": [
    "galaxy_data = pd.read_csv('../data/training_solutions_rev1.csv')\n",
    "galaxy_data.head()"
   ]
  },
  {
   "cell_type": "code",
   "execution_count": 9,
   "metadata": {},
   "outputs": [],
   "source": [
    "def append_ext(fn):\n",
    "    return str(fn)+\".jpg\""
   ]
  },
  {
   "cell_type": "code",
   "execution_count": 10,
   "metadata": {},
   "outputs": [
    {
     "output_type": "execute_result",
     "data": {
      "text/plain": "0        100008.jpg\n1        100023.jpg\n2        100053.jpg\n3        100078.jpg\n4        100090.jpg\n            ...    \n61573    999948.jpg\n61574    999950.jpg\n61575    999958.jpg\n61576    999964.jpg\n61577    999967.jpg\nName: GalaxyID, Length: 61578, dtype: object"
     },
     "metadata": {},
     "execution_count": 10
    }
   ],
   "source": [
    "galaxy_data[\"GalaxyID\"]=galaxy_data[\"GalaxyID\"].apply(append_ext)\n",
    "galaxy_data[\"GalaxyID\"]"
   ]
  },
  {
   "cell_type": "code",
   "execution_count": 11,
   "metadata": {},
   "outputs": [],
   "source": [
    "classes = ['Class1.1', 'Class1.2', 'Class1.3', 'Class2.1', 'Class2.2', 'Class3.1','Class3.2', 'Class4.1', 'Class4.2', 'Class5.1', 'Class5.2', 'Class5.3','Class5.4', 'Class6.1', 'Class6.2', 'Class7.1', 'Class7.2', 'Class7.3','Class8.1', 'Class8.2', 'Class8.3', 'Class8.4', 'Class8.5', 'Class8.6', 'Class8.7', 'Class9.1', 'Class9.2', 'Class9.3', 'Class10.1', 'Class10.2', 'Class10.3', 'Class11.1', 'Class11.2', 'Class11.3', 'Class11.4', 'Class11.5', 'Class11.6'\n",
    "]"
   ]
  },
  {
   "cell_type": "code",
   "execution_count": 12,
   "metadata": {},
   "outputs": [],
   "source": [
    "train_gen = tf.keras.preprocessing.image.ImageDataGenerator(rescale=1./255.,validation_split=0.25)"
   ]
  },
  {
   "cell_type": "code",
   "execution_count": 15,
   "metadata": {
    "tags": []
   },
   "outputs": [
    {
     "output_type": "stream",
     "name": "stdout",
     "text": "Found 46184 validated image filenames.\nFound 15394 validated image filenames.\n"
    }
   ],
   "source": [
    "train_generator = train_gen.flow_from_dataframe(dataframe=galaxy_data,directory=\"../data/images_training_rev1/\",x_col=\"GalaxyID\",y_col=classes,subset=\"training\",batch_size=32,seed=42,\n",
    "shuffle=True,\n",
    "class_mode=\"raw\",\n",
    "target_size=(256,256))\n",
    "\n",
    "validate = train_gen.flow_from_dataframe(dataframe=galaxy_data,directory=\"../data/images_training_rev1/\",x_col=\"GalaxyID\",y_col=classes,subset=\"validation\",batch_size=32,seed=42,\n",
    "shuffle=True,\n",
    "class_mode=\"raw\",\n",
    "target_size=(256,256))"
   ]
  },
  {
   "cell_type": "code",
   "execution_count": null,
   "metadata": {},
   "outputs": [],
   "source": []
  }
 ],
 "metadata": {
  "language_info": {
   "codemirror_mode": {
    "name": "ipython",
    "version": 3
   },
   "file_extension": ".py",
   "mimetype": "text/x-python",
   "name": "python",
   "nbconvert_exporter": "python",
   "pygments_lexer": "ipython3",
   "version": "3.8.3-final"
  },
  "orig_nbformat": 2,
  "kernelspec": {
   "name": "python38364bitcs231condac98c035d582048bda124cb6e3770de43",
   "display_name": "Python 3.8.3 64-bit ('cs231': conda)"
  }
 },
 "nbformat": 4,
 "nbformat_minor": 2
}